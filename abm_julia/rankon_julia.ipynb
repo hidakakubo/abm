{
 "cells": [
  {
   "cell_type": "code",
   "execution_count": 45,
   "metadata": {},
   "outputs": [
    {
     "name": "stderr",
     "output_type": "stream",
     "text": [
      "WARNING: replacing module Society.\n"
     ]
    },
    {
     "data": {
      "text/plain": [
       "Main.Society"
      ]
     },
     "execution_count": 45,
     "metadata": {},
     "output_type": "execute_result"
    }
   ],
   "source": [
    "module Society\n",
    "    export SocietyType\n",
    "\n",
    "    mutable struct SocietyType\n",
    "        population::Int              # エージェントの初期数\n",
    "        sex::Vector{AbstractString}  # エージェントの性別\n",
    "        age::Vector{Int}             # エージェントの年齢\n",
    "\n",
    "        # コンストラクタの定義\n",
    "        SocietyType(firstsize) = new(\n",
    "            firstsize,\n",
    "            [\"m\" for i = 1:firstsize],  # とりあえず最初は全部オスにしとく\n",
    "            [0 for i = 1:firstsize]     # とりあえず最初は全部0歳にしとく\n",
    "        )\n",
    "    end\n",
    "end"
   ]
  },
  {
   "cell_type": "code",
   "execution_count": 46,
   "metadata": {},
   "outputs": [
    {
     "name": "stderr",
     "output_type": "stream",
     "text": [
      "WARNING: replacing module Decision.\n"
     ]
    },
    {
     "data": {
      "text/plain": [
       "Main.Decision"
      ]
     },
     "execution_count": 46,
     "metadata": {},
     "output_type": "execute_result"
    }
   ],
   "source": [
    "module Decision\n",
    "    export choose_init_males, initialize_sex, initialize_age, copulation, aging, death, population_control, calculation\n",
    "    using StatsBase\n",
    "\n",
    "    \n",
    "    # 初期人口から初期オス比の分を、オスのエージェントとしてランダムサンプリングする\n",
    "    function choose_init_males(firstsize, init_male_prop)\n",
    "        init_male = StatsBase.self_avoid_sample!(1:firstsize, [i for i = 1:Int(firstsize * init_male_prop)])\n",
    "\n",
    "        return init_male\n",
    "    end\n",
    "\n",
    "\n",
    "    # 全エージェントの性別を初期化\n",
    "    function initialize_sex(society, init_male)\n",
    "        for id = 1:society.population\n",
    "            society.strategy[id] = ifelse(id in init_male, \"m\", \"f\")  # ifelse(条件式, Trueの時の処理, Falseの時の処理)\n",
    "        end\n",
    "    end\n",
    "\n",
    "\n",
    "    # 全エージェントの年齢を初期化\n",
    "    function initialize_age(society, life_length)\n",
    "        society.age = [rand(0:(life_length - 1)) for i = 1:society.population]\n",
    "    end\n",
    "\n",
    "\n",
    "    # 集団内の交尾\n",
    "    function copulation(society, cool_time, born_rate)\n",
    "        # 生殖可能なオス個体のインデックス\n",
    "        male_copu_id = [i for i = 1:society.population if (society.sex[i] == \"m\") && (society.age[i] > cool_time)]\n",
    "\n",
    "        # 生殖可能なメス個体のインデックス\n",
    "        female_copu_id = [i for i = 1:society.population if (society.sex[i] == \"f\") && (society.age[i] > cool_time)]\n",
    "\n",
    "        # 流産しない個体を選ぶ\n",
    "        chosen_female_id = [female_copu_id[i] for i = eachindex(female_copu_id) if rand() <= born_rate]\n",
    "\n",
    "        # メスが子供を産む\n",
    "        if length(male_copu_id) != 0\n",
    "            for i = 1:length(chosen_female_id)\n",
    "                push!(society.sex, sample([\"m\", \"f\"]))  # 子供の性別は \"m\":\"f\" = 1:1\n",
    "                push!(society.age, 0)                   # 子供の年齢は0歳\n",
    "                society.population += 1\n",
    "            end\n",
    "        end\n",
    "    end\n",
    "\n",
    "\n",
    "    # 歳をとる\n",
    "    function aging(society)\n",
    "        society.age = broadcast(+, society, 1)  # ブロードキャストで足し算\n",
    "    end\n",
    "\n",
    "\n",
    "    # 個体が死亡する\n",
    "    function death(society, life_length, accident_rate)\n",
    "        # 死亡する個体のインデックスを記録\n",
    "        death_list = []\n",
    "        for i = 1:society.population\n",
    "            if society.age[i] >= life_length\n",
    "                push!(death_list, i)         # 寿命で死亡する個体のindex\n",
    "            elseif rand() <= ((1/life_length) + accident_rate)\n",
    "                push!(death_list, i)         # 一定の死亡率で死亡する個体のindex\n",
    "            end\n",
    "        end\n",
    "\n",
    "        # 個体を取り除く\n",
    "        deleteat!(society.age, death_list)\n",
    "        deleteat!(society.sex, death_list)\n",
    "        society.population -= length(death_list)\n",
    "    end\n",
    "\n",
    "\n",
    "    # 個体数抑制\n",
    "    function population_control(society, Nmax)\n",
    "        while length(society.population) > Nmax\n",
    "            index = rand(1:society.population)\n",
    "            deleteat!(society.age, index)\n",
    "            deleteat!(society.sex, index)\n",
    "            society.population -= 1\n",
    "        end\n",
    "    end\n",
    "\n",
    "\n",
    "    # 個体数、性比を記録する\n",
    "    function calculation(society)\n",
    "        population_size = society.population\n",
    "        male_size = length([1 for sex = society.sex if sex == \"m\"])\n",
    "        male_proportion = ifelse(population_size != 0, male_size/population_size, 0)\n",
    "\n",
    "        return populationsize, male_proportion\n",
    "    end\n",
    "end"
   ]
  },
  {
   "cell_type": "code",
   "execution_count": 47,
   "metadata": {},
   "outputs": [
    {
     "name": "stderr",
     "output_type": "stream",
     "text": [
      "WARNING: replacing module Simulation.\n",
      "WARNING: using Simulation.main in module Main conflicts with an existing identifier.\n",
      "WARNING: redefinition of constant accident_rate_array. This may fail, cause incorrect answers, or produce other errors.\n",
      "WARNING: redefinition of constant born_rate_array. This may fail, cause incorrect answers, or produce other errors.\n",
      "WARNING: redefinition of constant seeds. This may fail, cause incorrect answers, or produce other errors.\n"
     ]
    },
    {
     "ename": "LoadError",
     "evalue": "UndefVarError: main not defined",
     "output_type": "error",
     "traceback": [
      "UndefVarError: main not defined",
      "",
      "Stacktrace:",
      " [1] top-level scope",
      "   @ ./timing.jl:262 [inlined]",
      " [2] top-level scope",
      "   @ ./In[47]:0"
     ]
    }
   ],
   "source": [
    "module Simulation\n",
    "    export run_one_episode, main\n",
    "    using ..Society\n",
    "    using ..Decision\n",
    "    using CSV\n",
    "    using DataFrames\n",
    "    using Random\n",
    "\n",
    "    # シミュレーション実行\n",
    "    function run_one_episode(society, iteration, firstsize, Nmax, life_length, cool_time, init_male_prop, accident_rate, born_rate, episode, seeds)\n",
    "        DataFrame(step = [], population_size = [], male_proportion = []) |> CSV.write(\"./results/result$(seeds)/episode_$(episode).csv\")\n",
    "\n",
    "        # 一つの時間軸でシミュレーションを実行\n",
    "        init_male = choose_init_males(firstsize, init_male_prop)\n",
    "        initialize_sex(society, init_male)\n",
    "        initialize_age(society, life_length)\n",
    "        for step = 1:iteration\n",
    "            copulation(society, cool_time, born_rate)\n",
    "            aging(society)\n",
    "            death(society, life_length, accident_rate)\n",
    "            population_control(society, Nmax)\n",
    "            global popu_size, male_prop = calculation(society)\n",
    "\n",
    "            DataFrame(step = [step], population_size = [popu_size], male_proportion = [male_prop]) |> CSV.write(\"./results/result$(seeds)/episode_$(episode).csv\", append=true)\n",
    "        end\n",
    "    end\n",
    "\n",
    "\n",
    "    # main処理\n",
    "    # 死亡割合、流産しない割合を変化させて最終個体数の変化を観察\n",
    "    # 色々なseedでアンサンブル平均を取る\n",
    "    function main(iteration, firstsize, Nmax, life_length, cool_time, init_male_prop, accident_rate_array, born_rate_array, episode, seeds)\n",
    "\n",
    "        society = SocietyType(firstsize)\n",
    "\n",
    "        for seeds = 1:length(seeds)\n",
    "            Random.seed(seeds)\n",
    "            mkpath(\"./results/result$(seeds)\")\n",
    "\n",
    "            # パラメータの組み合わせを変えシミュレーション実行\n",
    "            DataFrame(episode = [], accident_rate = [], born_rate = []) |> CSV.write(\"./results/parameters.csv\")\n",
    "            for i = eachindex(accident_rate_array)\n",
    "                for j = eachindex(born_rate_array)\n",
    "                    episode = (length(accident_rate_array) * (i-1)) + j\n",
    "                    accident_rate = accident_rate_array[i]\n",
    "                    born_rate = born_rate_array[j]\n",
    "                    run_one_episode(society, iteration, firstsize, Nmax, life_length, cool_time, init_male_prop, accident_rate, born_rate, episode, seeds)\n",
    "                    DataFrame(episode = episode, accident_rate = accident_rate, born_rate = born_rate) |> CSV.write(\"./results/parameters.csv\", append=true)\n",
    "                end\n",
    "            end\n",
    "            println(\"seed$(seeds):done\")\n",
    "        end\n",
    "    end\n",
    "end\n",
    "\n",
    "\n",
    "# 実行部分\n",
    "using .Simulation\n",
    "\n",
    "# パラメータの設定\n",
    "const iteration = 50\n",
    "const firstsize = 100\n",
    "const Nmax = 10000\n",
    "const life_length = 30\n",
    "const cool_time = 10\n",
    "const init_male_prop = 0.5\n",
    "const accident_rate_array = Vector(0:0.02:0.2) # [0.0, 0.02, 0.04, 0.06, 0.08, 0.1, 0.12, 0.14, 0.16, 0.18, 0.2]\n",
    "const born_rate_array = Vector(0:0.1:1)        # [0.0, 0.1, 0.2, 0.3, 0.4, 0.5, 0.6, 0.7, 0.8, 0.9, 1.0]\n",
    "const seeds = Vector(1:100)\n",
    "\n",
    "# パラメータをテキストファイルで保存する\n",
    "mkdir(\"./results\")\n",
    "open(\"./results/params.txt\", \"w\") do out\n",
    "    println(out, \"iteration = $(iteration)\")\n",
    "    println(out, \"firstsize = $(firstsize)\")\n",
    "    println(out, \"Nmax = $(Nmax)\")\n",
    "    println(out, \"life_length = $(life_length)\")\n",
    "    println(out, \"cooltime = $(cool_time)\")\n",
    "    println(out, \"init_male_prop = $(init_male_prop)\")\n",
    "    println(out, \"accident_rate_array = $(accident_rate_array)\")\n",
    "    println(out, \"born_rate_array = $(born_rate_array)\")\n",
    "    println(out, \"seeds = $(seeds)\")\n",
    "end\n",
    "\n",
    "@time main(iteration, firstsize, Nmax, life_length, cool_time, init_male_prop, accident_rate_array, born_rate_array, episode, seeds)"
   ]
  },
  {
   "cell_type": "code",
   "execution_count": 2,
   "metadata": {},
   "outputs": [
    {
     "name": "stdout",
     "output_type": "stream",
     "text": [
      "1\n",
      "2\n",
      "3\n",
      "4\n",
      "5\n",
      "6\n",
      "7\n",
      "8\n",
      "9\n",
      "10\n"
     ]
    }
   ],
   "source": [
    "r = Vector(2:11)\n",
    "for i = eachindex(r)\n",
    "    println(i)\n",
    "end"
   ]
  },
  {
   "cell_type": "code",
   "execution_count": 10,
   "metadata": {},
   "outputs": [
    {
     "name": "stdout",
     "output_type": "stream",
     "text": [
      "[2, 4, 6, 7, 8, 9]\n"
     ]
    }
   ],
   "source": [
    "a = [1, 2, 3, 4, 5, 6, 7, 8, 9]\n",
    "deleteat!(a, [1, 3, 5])\n",
    "println(a)"
   ]
  }
 ],
 "metadata": {
  "kernelspec": {
   "display_name": "Julia 1.8.4",
   "language": "julia",
   "name": "julia-1.8"
  },
  "language_info": {
   "file_extension": ".jl",
   "mimetype": "application/julia",
   "name": "julia",
   "version": "1.8.4"
  },
  "orig_nbformat": 4,
  "vscode": {
   "interpreter": {
    "hash": "b64d2063b15c063c437d3c2dbfd15848d69d1ac1db48a6c2cfeebb989f5eaa69"
   }
  }
 },
 "nbformat": 4,
 "nbformat_minor": 2
}
